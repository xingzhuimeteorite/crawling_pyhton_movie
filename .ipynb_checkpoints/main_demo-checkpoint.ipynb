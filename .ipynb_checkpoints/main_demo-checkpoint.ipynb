{
 "cells": [
  {
   "cell_type": "code",
   "execution_count": 2,
   "metadata": {},
   "outputs": [
    {
     "name": "stdout",
     "output_type": "stream",
     "text": [
      "始石疯暴 10月11日 https://img3.doubanio.com/view/photo/s_ratio_poster/public/p2569757601.jpg\n",
      "犯罪现场 10月12日 https://img3.doubanio.com/view/photo/s_ratio_poster/public/p2570879785.jpg\n",
      "急速逃脱 10月12日 https://img3.doubanio.com/view/photo/s_ratio_poster/public/p2568928751.jpg\n",
      "丑娃娃 10月13日 https://img3.doubanio.com/view/photo/s_ratio_poster/public/p2570312295.jpg\n",
      "双子杀手 10月18日 https://img3.doubanio.com/view/photo/s_ratio_poster/public/p2570906505.jpg\n",
      "沉睡魔咒2 10月18日 https://img3.doubanio.com/view/photo/s_ratio_poster/public/p2570105165.jpg\n",
      "航海王：狂热行动 10月18日 https://img3.doubanio.com/view/photo/s_ratio_poster/public/p2570039912.jpg\n",
      "侠路相逢 10月18日 https://img3.doubanio.com/view/photo/s_ratio_poster/public/p2570803986.jpg\n",
      "开国大典 10月18日 https://img1.doubanio.com/view/photo/s_ratio_poster/public/p2569470378.jpg\n",
      "我在耀瓷小镇等你 10月18日 https://img3.doubanio.com/view/photo/s_ratio_poster/public/p2568440912.jpg\n",
      "为国而歌 10月18日 https://img1.doubanio.com/view/photo/s_ratio_poster/public/p2569772108.jpg\n",
      "我为兄弟狂 10月18日 https://img1.doubanio.com/view/photo/s_ratio_poster/public/p2545394258.jpg\n",
      "恋恋不舍 10月18日 https://img3.doubanio.com/view/photo/s_ratio_poster/public/p2544081196.jpg\n",
      "在别处 10月18日 https://img3.doubanio.com/view/photo/s_ratio_poster/public/p2571082366.jpg\n",
      "安阳劫 10月18日 https://img3.doubanio.com/view/photo/s_ratio_poster/public/p2571082975.jpg\n",
      "哈利与莱生 10月18日 https://img3.doubanio.com/view/photo/s_ratio_poster/public/p2571009753.jpg\n",
      "你好霸王龙 10月19日 https://img3.doubanio.com/view/photo/s_ratio_poster/public/p2569222954.jpg\n",
      "随风摇曳 10月20日 https://img3.doubanio.com/view/photo/s_ratio_poster/public/p2560169351.jpg\n",
      "护宝计中计 10月22日 https://img1.doubanio.com/view/photo/s_ratio_poster/public/p2569791497.jpg\n",
      "好莱坞往事 10月25日 https://img1.doubanio.com/view/photo/s_ratio_poster/public/p2569496947.jpg\n",
      "天作谜案 10月25日 https://img3.doubanio.com/view/photo/s_ratio_poster/public/p2570104904.jpg\n",
      "催眠·裁决 10月25日 https://img1.doubanio.com/view/photo/s_ratio_poster/public/p2569044398.jpg\n",
      "呼吸 10月25日 https://img1.doubanio.com/view/photo/s_ratio_poster/public/p2568926037.jpg\n",
      "解放·终局营救 10月25日 https://img3.doubanio.com/view/photo/s_ratio_poster/public/p2568486743.jpg\n",
      "Wall time: 15.9 s\n"
     ]
    }
   ],
   "source": [
    "import requests\n",
    "from bs4 import BeautifulSoup\n",
    "\n",
    "def main():\n",
    "    url = \"https://movie.douban.com/cinema/later/shanghai/\"\n",
    "    init_page = requests.get(url).content\n",
    "    init_soup = BeautifulSoup(init_page, 'lxml')\n",
    "\n",
    "    all_movies = init_soup.find('div', id=\"showing-soon\")\n",
    "    for each_movie in all_movies.find_all('div', class_=\"item\"):\n",
    "        all_a_tag = each_movie.find_all('a')\n",
    "        all_li_tag = each_movie.find_all('li')\n",
    "\n",
    "        movie_name = all_a_tag[1].text\n",
    "        url_to_fetch = all_a_tag[1]['href']\n",
    "        movie_date = all_li_tag[0].text\n",
    "\n",
    "        response_item = requests.get(url_to_fetch).content\n",
    "        soup_item = BeautifulSoup(response_item, 'lxml')\n",
    "        img_tag = soup_item.find('img')\n",
    "\n",
    "        print('{} {} {}'.format(movie_name, movie_date, img_tag['src']))\n",
    "\n",
    "%time main()"
   ]
  },
  {
   "cell_type": "code",
   "execution_count": null,
   "metadata": {},
   "outputs": [],
   "source": []
  }
 ],
 "metadata": {
  "kernelspec": {
   "display_name": "Python 3",
   "language": "python",
   "name": "python3"
  },
  "language_info": {
   "codemirror_mode": {
    "name": "ipython",
    "version": 3
   },
   "file_extension": ".py",
   "mimetype": "text/x-python",
   "name": "python",
   "nbconvert_exporter": "python",
   "pygments_lexer": "ipython3",
   "version": "3.7.0"
  },
  "toc": {
   "base_numbering": 1,
   "nav_menu": {},
   "number_sections": true,
   "sideBar": true,
   "skip_h1_title": false,
   "title_cell": "Table of Contents",
   "title_sidebar": "Contents",
   "toc_cell": false,
   "toc_position": {},
   "toc_section_display": true,
   "toc_window_display": false
  }
 },
 "nbformat": 4,
 "nbformat_minor": 2
}
